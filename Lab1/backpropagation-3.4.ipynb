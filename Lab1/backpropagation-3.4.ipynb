{
  "cells": [
    {
      "cell_type": "markdown",
      "metadata": {
        "id": "L6chybAVFJW2",
        "tags": []
      },
      "source": [
        "# **Notebook: Backpropagation**\n",
        "\n",
        "This notebook runs the backpropagation algorithm on a deep neural network as described in section 7.4 of the book for the least square loss function and for one data sample. In the end, it compares the derivatives with finite difference.\n",
        "\n",
        "After working though this notebook, you will use this notebook to extend to handle softmax output and cross-entropy loss as well as multiple data points.\n",
        "\n",
        "The notebook is a slight modification of https://github.com/udlbook/udlbook/blob/main/Notebooks/Chap07/7_2_Backpropagation.ipynb"
      ]
    },
    {
      "cell_type": "code",
      "execution_count": 14,
      "metadata": {
        "id": "LdIDglk1FFcG",
        "tags": []
      },
      "outputs": [],
      "source": [
        "import numpy as np\n",
        "import matplotlib.pyplot as plt"
      ]
    },
    {
      "cell_type": "markdown",
      "metadata": {
        "id": "nnUoI0m6GyjC",
        "tags": []
      },
      "source": [
        "First let's define a neural network.  We'll just choose the weights and biases randomly for now."
      ]
    },
    {
      "cell_type": "code",
      "execution_count": 15,
      "metadata": {
        "id": "WVM4Tc_jGI0Q",
        "tags": []
      },
      "outputs": [],
      "source": [
        "# Set seed so we always get the same random numbers\n",
        "np.random.seed(0)\n",
        "\n",
        "# Number of hidden layers\n",
        "K = 5\n",
        "# Number of neurons per layer\n",
        "D = 6\n",
        "# Input layer dimension\n",
        "D_i = 1\n",
        "# Output layer dimension\n",
        "D_o = 1\n",
        "\n",
        "# Make empty lists\n",
        "all_weights = [None] * (K+1)\n",
        "all_biases = [None] * (K+1)\n",
        "\n",
        "# Create input and output layer\n",
        "if K==0:\n",
        "    all_weights[0] = np.random.normal(size=(D_o, D_i))\n",
        "else:\n",
        "    all_weights[0] = np.random.normal(size=(D, D_i))\n",
        "    all_weights[-1] = np.random.normal(size=(D_o, D))\n",
        "    all_biases[0] = np.random.normal(size =(D,1))\n",
        "\n",
        "all_biases[-1]= np.random.normal(size =(D_o,1))\n",
        "\n",
        "# Create intermediate layers\n",
        "for layer in range(1,K):\n",
        "    all_weights[layer] = np.random.normal(size=(D,D))\n",
        "    all_biases[layer] = np.random.normal(size=(D,1))"
      ]
    },
    {
      "cell_type": "code",
      "execution_count": 16,
      "metadata": {
        "id": "jZh-7bPXIDq4",
        "tags": []
      },
      "outputs": [],
      "source": [
        "# Define the Rectified Linear Unit (ReLU) function\n",
        "def ReLU(preactivation):\n",
        "    activation = preactivation.clip(0.0)\n",
        "    return activation"
      ]
    },
    {
      "cell_type": "markdown",
      "metadata": {
        "id": "5irtyxnLJSGX",
        "tags": []
      },
      "source": [
        "Now let's run our random network.  The weight matrices $\\boldsymbol\\Omega_{1\\ldots K}$ are the entries of the list \"all_weights\" and the biases $\\boldsymbol\\beta_{1\\ldots K}$ are the entries of the list \"all_biases\".\n",
        "\n",
        "We know that we will need the preactivations $\\mathbf{f}_{0\\ldots K}$ and the activations $\\mathbf{h}_{1\\ldots K}$ later for the backward pass of backpropagation, so we'll store and return these as well.\n"
      ]
    },
    {
      "cell_type": "code",
      "execution_count": 17,
      "metadata": {
        "id": "LgquJUJvJPaN",
        "tags": []
      },
      "outputs": [],
      "source": [
        "def forward_pass(net_input, all_weights, all_biases):\n",
        "\n",
        "    # Retrieve number of layers\n",
        "    K = len(all_weights) -1\n",
        "\n",
        "    # We'll store the pre-activations at each layer in a list \"all_f\"\n",
        "    # and the activations in a second list \"all_h\".\n",
        "    all_f = [None] * (K+1)\n",
        "    all_h = [None] * (K+1)\n",
        "\n",
        "    #For convenience, we'll set all_h[0] to be the input, and all_f[K] will be the output\n",
        "    all_h[0] = net_input\n",
        "\n",
        "    # Run through the layers, calculating all_f[0...K-1] and all_h[1...K]\n",
        "    for layer in range(K):\n",
        "        # Update preactivations and activations at this layer according to eq. 7.16 (eq. 7.17 if you use pdf version)\n",
        "        # Remember to use np.matmul for matrix multiplications\n",
        "        # TODO -- Replace the lines below\n",
        "        # all_f[layer] = all_h[layer]\n",
        "        # all_h[layer+1] = all_f[layer]\n",
        "        all_f[layer] = np.matmul(all_weights[layer], all_h[layer]) + all_biases[layer]  # 计算预激活值\n",
        "        all_h[layer + 1] = ReLU(all_f[layer])\n",
        "    # Compute the output from the last hidden layer\n",
        "    # TODO -- Replace the line below\n",
        "    # all_f[K] = np.zeros_like(all_biases[-1])\n",
        "    all_f[K] = np.matmul(all_weights[K], all_h[K - 1]) + all_biases[K]  # 输出层的预激活值\n",
        "\n",
        "    # Retrieve the output\n",
        "    net_output = all_f[K]\n",
        "\n",
        "    return net_output, all_f, all_h"
      ]
    },
    {
      "cell_type": "code",
      "execution_count": 18,
      "metadata": {
        "id": "IN6w5m2ZOhnB",
        "tags": [],
        "colab": {
          "base_uri": "https://localhost:8080/"
        },
        "outputId": "8d0f6720-fecc-4455-f580-e829621951a9"
      },
      "outputs": [
        {
          "output_type": "stream",
          "name": "stdout",
          "text": [
            "True output = 2.757, Your answer = -0.759\n"
          ]
        }
      ],
      "source": [
        "# Define input\n",
        "n_samples=10 # Number of samples\n",
        "np.random.seed(0)\n",
        "net_input = np.random.normal(0,1,size=(D_i,n_samples)) # If data points as columns\n",
        "\n",
        "# Compute network output\n",
        "net_output, all_f, all_h = forward_pass(net_input,all_weights, all_biases)\n",
        "print(\"True output = %3.3f, Your answer = %3.3f\"%(2.757, net_output[0,0]))"
      ]
    },
    {
      "cell_type": "markdown",
      "metadata": {
        "id": "SxVTKp3IcoBF",
        "tags": []
      },
      "source": [
        "Now let's define a cost function. We'll just use the least squares loss function for this. We'll also write a function to compute d_cost_d_output.\n"
      ]
    },
    {
      "cell_type": "code",
      "execution_count": 19,
      "metadata": {
        "tags": [],
        "colab": {
          "base_uri": "https://localhost:8080/"
        },
        "id": "CJSPKXK7xSLt",
        "outputId": "a6cd378f-bb50-4014-c716-1b57e7e3f697"
      },
      "outputs": [
        {
          "output_type": "stream",
          "name": "stdout",
          "text": [
            "y =  [[ 0.144  1.454  0.761  0.122  0.444  0.334  1.494 -0.205  0.313 -0.854]]\n",
            "Cost = 5.581\n"
          ]
        }
      ],
      "source": [
        "def compute_cost(net_output, y):\n",
        "    I = y.shape[1]  # Number of data points if data points as columns\n",
        "    return np.sum((net_output-y) * (net_output-y))/I\n",
        "\n",
        "def d_cost_d_output(net_output, y):\n",
        "    I = y.shape[1] # Number of data points if data points as columns\n",
        "    return 2*(net_output -y)/I;\n",
        "\n",
        "# Define the output we later will use for evaluating the gradients.\n",
        "y = np.random.normal(0,1,size=(D_o,n_samples))\n",
        "L = compute_cost(net_output, y)\n",
        "print(\"y = \",y)\n",
        "print(\"Cost = %3.3f\"%(L))"
      ]
    },
    {
      "cell_type": "markdown",
      "metadata": {
        "id": "98WmyqFYWA-0",
        "tags": []
      },
      "source": [
        "Now let's compute the derivatives of the network.  We already computed the forward pass.  Let's compute the backward pass."
      ]
    },
    {
      "cell_type": "code",
      "execution_count": 22,
      "metadata": {
        "id": "LJng7WpRPLMz",
        "tags": []
      },
      "outputs": [],
      "source": [
        "# We'll need the indicator function\n",
        "def indicator_function(x):\n",
        "    x_in = np.array(x)\n",
        "    x_in[x_in>0] = 1\n",
        "    x_in[x_in<=0] = 0\n",
        "    return x_in\n",
        "\n",
        "# Main backward pass routine\n",
        "def backward_pass(all_weights, all_biases, all_f, all_h, y):\n",
        "    # We'll store the derivatives dl_dweights and dl_dbiases in lists as well\n",
        "    all_dl_dweights = [None] * (K+1)\n",
        "    all_dl_dbiases = [None] * (K+1)\n",
        "    # And we'll store the derivatives of the cost with respect to the activation and preactivations in lists\n",
        "    all_dl_df = [None] * (K+1)\n",
        "    all_dl_dh = [None] * (K+1)\n",
        "    # Again for convenience we'll stick with the convention that all_h[0] is the net input and all_f[k] in the net output\n",
        "\n",
        "    # Compute derivatives of the cost with respect to the network output\n",
        "    all_dl_df[K] = np.array(d_cost_d_output(all_f[K],y))\n",
        "    # Now work backwards through the network\n",
        "    for layer in range(K,-1,-1):\n",
        "        # TODO Calculate the derivatives of the cost with respect to the biases at layer from all_dl_df[layer]. (eq 7.21, pdf version: eq 7.22)\n",
        "        # NOTE!  To take a copy of matrix X, use Z=np.array(X)\n",
        "        # all_dl_dbiases[layer] = np.zeros_like(all_biases[layer])\n",
        "        # all_dl_dbiases[layer] = np.matmul(all_dl_df[layer], np.ones_like(all_biases[layer]).T)\n",
        "        all_dl_dbiases[layer] = np.sum(all_dl_df[layer], axis=1, keepdims=True)\n",
        "\n",
        "        # TODO Calculate the derivatives of the cost with respect to the weights at layer from all_dl_df[layer] and all_h[layer] (eq 7.22, pdf version: eq 7.23)\n",
        "        # Don't forget to use np.matmul\n",
        "        # all_dl_dweights[layer] = np.zeros_like(all_weights[layer])\n",
        "        all_dl_dweights[layer] = np.matmul(all_dl_df[layer], all_h[layer].T)\n",
        "\n",
        "        # TODO: calculate the derivatives of the cost with respect to the activations from weight and derivatives of next preactivations (second part of last line of eq 7.24, pdf version: eq 7.25)\n",
        "        # REPLACE THIS LINE\n",
        "        # all_dl_dh[layer] = np.zeros_like(all_h[layer])\n",
        "        all_dl_dh[layer] = np.matmul(all_weights[layer].T,all_dl_df[layer])\n",
        "\n",
        "        if layer > 0:\n",
        "            # TODO Calculate the derivatives of the cost with respect to the pre-activation f (use derivative of ReLu function, first part of last line of eq 7.24, pdf version: eq 7.25)\n",
        "            # REPLACE THIS LINE\n",
        "            # all_dl_df[layer-1] = np.zeros_like(all_f[layer-1])\n",
        "            all_dl_dh[layer - 1] = np.matmul(all_weights[layer].T, all_dl_df[layer]) * indicator_function(all_f[layer - 1])  # ReLU的导数\n",
        "            all_dl_df[layer - 1] = all_dl_dh[layer - 1]\n",
        "\n",
        "    return all_dl_dweights, all_dl_dbiases"
      ]
    },
    {
      "cell_type": "code",
      "execution_count": 23,
      "metadata": {
        "id": "9A9MHc4sQvbp",
        "tags": []
      },
      "outputs": [],
      "source": [
        "all_dl_dweights, all_dl_dbiases = backward_pass(all_weights, all_biases, all_f, all_h, y)"
      ]
    },
    {
      "cell_type": "code",
      "execution_count": 24,
      "metadata": {
        "colab": {
          "base_uri": "https://localhost:8080/"
        },
        "id": "PK-UtE3hreAK",
        "outputId": "48b9098a-d447-406b-92be-820b1f4186b3",
        "scrolled": false,
        "tags": []
      },
      "outputs": [
        {
          "output_type": "stream",
          "name": "stdout",
          "text": [
            "-----------------------------------------------\n",
            "Bias 0, derivatives from backprop:\n",
            "[[ 0.19 ]\n",
            " [-0.313]\n",
            " [-0.577]\n",
            " [ 0.03 ]\n",
            " [ 0.776]\n",
            " [-0.706]]\n",
            "Bias 0, derivatives from finite differences\n",
            "[[-1.781]\n",
            " [ 0.862]\n",
            " [ 1.258]\n",
            " [ 0.218]\n",
            " [-1.38 ]\n",
            " [-0.849]]\n",
            "Failure!  Derivatives different.\n",
            "-----------------------------------------------\n",
            "Bias 1, derivatives from backprop:\n",
            "[[-1.761]\n",
            " [-2.167]\n",
            " [ 3.18 ]\n",
            " [ 0.   ]\n",
            " [ 0.315]\n",
            " [ 0.   ]]\n",
            "Bias 1, derivatives from finite differences\n",
            "[[-1.05 ]\n",
            " [-0.838]\n",
            " [ 0.946]\n",
            " [ 0.   ]\n",
            " [-1.085]\n",
            " [ 0.   ]]\n",
            "Failure!  Derivatives different.\n",
            "-----------------------------------------------\n",
            "Bias 2, derivatives from backprop:\n",
            "[[-0.199]\n",
            " [-1.364]\n",
            " [-0.053]\n",
            " [ 2.089]\n",
            " [-1.123]\n",
            " [ 1.02 ]]\n",
            "Bias 2, derivatives from finite differences\n",
            "[[ 0.007]\n",
            " [-1.191]\n",
            " [ 0.936]\n",
            " [ 0.827]\n",
            " [-1.246]\n",
            " [ 0.686]]\n",
            "Failure!  Derivatives different.\n",
            "-----------------------------------------------\n",
            "Bias 3, derivatives from backprop:\n",
            "[[ 0.   ]\n",
            " [-1.134]\n",
            " [ 1.331]\n",
            " [ 0.   ]\n",
            " [-0.226]\n",
            " [ 0.298]]\n",
            "Bias 3, derivatives from finite differences\n",
            "[[ 0.   ]\n",
            " [-0.292]\n",
            " [-0.199]\n",
            " [ 0.   ]\n",
            " [ 0.146]\n",
            " [ 2.804]]\n",
            "Failure!  Derivatives different.\n",
            "-----------------------------------------------\n",
            "Bias 4, derivatives from backprop:\n",
            "[[ 0.867]\n",
            " [ 0.   ]\n",
            " [-0.128]\n",
            " [ 0.375]\n",
            " [-0.033]\n",
            " [ 0.   ]]\n",
            "Bias 4, derivatives from finite differences\n",
            "[[0.]\n",
            " [0.]\n",
            " [0.]\n",
            " [0.]\n",
            " [0.]\n",
            " [0.]]\n",
            "Failure!  Derivatives different.\n",
            "-----------------------------------------------\n",
            "Bias 5, derivatives from backprop:\n",
            "[[1.928]]\n",
            "Bias 5, derivatives from finite differences\n",
            "[[1.928]]\n",
            "Success!  Derivatives match.\n",
            "-----------------------------------------------\n",
            "Weight 0, derivatives from backprop:\n",
            "[[-0.213]\n",
            " [ 0.251]\n",
            " [ 0.368]\n",
            " [-0.165]\n",
            " [-1.145]\n",
            " [ 0.69 ]]\n",
            "Weight 0, derivatives from finite differences\n",
            "[[ 2.169]\n",
            " [-0.75 ]\n",
            " [-0.807]\n",
            " [-1.031]\n",
            " [ 1.724]\n",
            " [ 0.83 ]]\n",
            "Failure!  Derivatives different.\n",
            "-----------------------------------------------\n",
            "Weight 1, derivatives from backprop:\n",
            "[[ 0.     0.     0.     0.     0.    -1.321]\n",
            " [-0.653 -0.165 -0.355 -1.044 -0.456 -1.881]\n",
            " [ 0.093  0.012  0.056  0.     0.229  2.243]\n",
            " [ 0.     0.     0.     0.     0.     0.   ]\n",
            " [-0.623 -0.157 -0.339 -0.99  -0.442  0.   ]\n",
            " [ 0.     0.     0.     0.     0.     0.   ]]\n",
            "Weight 1, derivatives from finite differences\n",
            "[[ 0.     0.     0.     0.     0.    -0.787]\n",
            " [ 0.492  0.128  0.266  0.83   0.296 -0.384]\n",
            " [-0.18  -0.022 -0.108  0.    -0.441  0.983]\n",
            " [ 0.     0.     0.     0.     0.     0.   ]\n",
            " [ 1.668  0.434  0.902  2.802  1.019  0.   ]\n",
            " [ 0.     0.     0.     0.     0.     0.   ]]\n",
            "Failure!  Derivatives different.\n",
            "-----------------------------------------------\n",
            "Weight 2, derivatives from backprop:\n",
            "[[ 0.000e+00 -2.280e-01 -4.240e-03  0.000e+00 -2.818e-01  0.000e+00]\n",
            " [-2.906e+00 -2.493e-01 -1.671e+00  0.000e+00  0.000e+00  0.000e+00]\n",
            " [ 0.000e+00  7.501e-02 -1.251e-03  0.000e+00 -1.759e-02  0.000e+00]\n",
            " [ 4.451e+00  3.817e-01  2.559e+00  0.000e+00  0.000e+00  0.000e+00]\n",
            " [-2.737e+00 -1.492e+00 -1.569e+00  0.000e+00 -3.792e-01  0.000e+00]\n",
            " [ 2.071e+00  3.102e-01  1.191e+00  0.000e+00  1.013e-01  0.000e+00]]\n",
            "Weight 2, derivatives from finite differences\n",
            "[[ 0.000e+00  8.203e-03  1.525e-04  0.000e+00  1.014e-02  0.000e+00]\n",
            " [-2.538e+00 -2.177e-01 -1.459e+00  0.000e+00  0.000e+00  0.000e+00]\n",
            " [ 0.000e+00 -3.742e+00  2.444e-02  0.000e+00 -7.046e-01  0.000e+00]\n",
            " [ 1.761e+00  1.510e-01  1.013e+00  0.000e+00  0.000e+00  0.000e+00]\n",
            " [-1.336e+00  2.361e+00 -7.846e-01  0.000e+00  4.662e-01  0.000e+00]\n",
            " [ 1.123e+00 -2.210e+00  6.459e-01  0.000e+00 -8.230e-01  0.000e+00]]\n",
            "Failure!  Derivatives different.\n",
            "-----------------------------------------------\n",
            "Weight 3, derivatives from backprop:\n",
            "[[ 0.     0.     0.     0.     0.     0.   ]\n",
            " [ 0.037 -1.264 -0.107 -3.619 -4.311 -3.562]\n",
            " [ 0.014  1.299 -0.037  3.719  3.131  3.18 ]\n",
            " [ 0.     0.     0.     0.     0.     0.   ]\n",
            " [-0.061  0.     0.071  0.     0.458  0.246]\n",
            " [-0.03   0.39   0.121  1.117  2.17   1.384]]\n",
            "Weight 3, derivatives from finite differences\n",
            "[[ 0.     0.     0.     0.     0.     0.   ]\n",
            " [-0.047 -0.14   0.121 -0.4    0.684  0.043]\n",
            " [-0.032 -0.095  0.083 -0.273  0.466  0.029]\n",
            " [ 0.     0.     0.     0.     0.     0.   ]\n",
            " [ 0.044  0.    -0.115  0.    -1.004 -0.379]\n",
            " [ 0.449  1.342 -1.166  3.841 -6.568 -0.414]]\n",
            "Failure!  Derivatives different.\n",
            "-----------------------------------------------\n",
            "Weight 4, derivatives from backprop:\n",
            "[[ 0.     2.035  5.739  0.     0.     3.353]\n",
            " [ 0.     0.     0.     0.     0.     0.   ]\n",
            " [ 0.    -0.225 -0.259  0.    -0.245 -0.27 ]\n",
            " [ 0.     0.88   2.48   0.     0.     1.449]\n",
            " [ 0.    -2.387 -1.311  0.    -0.499 -0.046]\n",
            " [ 0.     0.     0.     0.     0.     0.   ]]\n",
            "Weight 4, derivatives from finite differences\n",
            "[[0. 0. 0. 0. 0. 0.]\n",
            " [0. 0. 0. 0. 0. 0.]\n",
            " [0. 0. 0. 0. 0. 0.]\n",
            " [0. 0. 0. 0. 0. 0.]\n",
            " [0. 0. 0. 0. 0. 0.]\n",
            " [0. 0. 0. 0. 0. 0.]]\n",
            "Failure!  Derivatives different.\n",
            "-----------------------------------------------\n",
            "Weight 5, derivatives from backprop:\n",
            "[[  3.296   0.      0.693   7.239 -15.207   0.   ]]\n",
            "Weight 5, derivatives from finite differences\n",
            "[[  0.    -12.247  -0.557   0.     -1.096   5.828]]\n",
            "Failure!  Derivatives different.\n"
          ]
        }
      ],
      "source": [
        "np.set_printoptions(precision=3)\n",
        "# Make space for derivatives computed by finite differences\n",
        "all_dl_dweights_fd = [None] * (K+1)\n",
        "all_dl_dbiases_fd = [None] * (K+1)\n",
        "\n",
        "# Let's test if we have the derivatives right using finite differences\n",
        "delta_fd = 0.000001\n",
        "\n",
        "# Test the dervatives of the bias vectors\n",
        "for layer in range(K+1):\n",
        "    dl_dbias  = np.zeros_like(all_biases[layer])\n",
        "    # For every element in the bias\n",
        "    for row in range(all_biases[layer].shape[0]):\n",
        "        # Take copy of biases.  We'll change one element each time\n",
        "        all_biases_copy = [np.array(x) for x in all_biases]\n",
        "        all_biases_copy[layer][row] += delta_fd\n",
        "        network_output_1, *_ = forward_pass(net_input, all_weights, all_biases_copy)\n",
        "        network_output_2, *_ = forward_pass(net_input, all_weights, all_biases)\n",
        "        dl_dbias[row] = (compute_cost(network_output_1, y) - compute_cost(network_output_2,y))/delta_fd\n",
        "    all_dl_dbiases_fd[layer] = np.array(dl_dbias)\n",
        "    print(\"-----------------------------------------------\")\n",
        "    print(\"Bias %d, derivatives from backprop:\"%(layer))\n",
        "    print(all_dl_dbiases[layer])\n",
        "    print(\"Bias %d, derivatives from finite differences\"%(layer))\n",
        "    print(all_dl_dbiases_fd[layer])\n",
        "    if np.allclose(all_dl_dbiases_fd[layer],all_dl_dbiases[layer],rtol=1e-03, atol=1e-07, equal_nan=False):\n",
        "        print(\"Success!  Derivatives match.\")\n",
        "    else:\n",
        "        print(\"Failure!  Derivatives different.\")\n",
        "\n",
        "\n",
        "\n",
        "# Test the derivatives of the weights matrices\n",
        "for layer in range(K+1):\n",
        "    dl_dweight  = np.zeros_like(all_weights[layer])\n",
        "    # For every element in the bias\n",
        "    for row in range(all_weights[layer].shape[0]):\n",
        "        for col in range(all_weights[layer].shape[1]):\n",
        "            # Take copy of biases. We'll change one element each time\n",
        "            all_weights_copy = [np.array(x) for x in all_weights]\n",
        "            all_weights_copy[layer][row][col] += delta_fd\n",
        "            network_output_1, *_ = forward_pass(net_input, all_weights_copy, all_biases)\n",
        "            network_output_2, *_ = forward_pass(net_input, all_weights, all_biases)\n",
        "            dl_dweight[row][col] = (compute_cost(network_output_1, y) - compute_cost(network_output_2,y))/delta_fd\n",
        "    all_dl_dweights_fd[layer] = np.array(dl_dweight)\n",
        "    print(\"-----------------------------------------------\")\n",
        "    print(\"Weight %d, derivatives from backprop:\"%(layer))\n",
        "    print(all_dl_dweights[layer])\n",
        "    print(\"Weight %d, derivatives from finite differences\"%(layer))\n",
        "    print(all_dl_dweights_fd[layer])\n",
        "    if np.allclose(all_dl_dweights_fd[layer],all_dl_dweights[layer],rtol=1e-03, atol=1e-07, equal_nan=False):\n",
        "        print(\"Success!  Derivatives match.\")\n",
        "    else:\n",
        "        print(\"Failure!  Derivatives different.\")"
      ]
    }
  ],
  "metadata": {
    "anaconda-cloud": {},
    "celltoolbar": "Tags",
    "colab": {
      "provenance": []
    },
    "kernelspec": {
      "display_name": "Python 3",
      "language": "python",
      "name": "python3"
    },
    "language_info": {
      "codemirror_mode": {
        "name": "ipython",
        "version": 3
      },
      "file_extension": ".py",
      "mimetype": "text/x-python",
      "name": "python",
      "nbconvert_exporter": "python",
      "pygments_lexer": "ipython3",
      "version": "3.7.7"
    }
  },
  "nbformat": 4,
  "nbformat_minor": 0
}